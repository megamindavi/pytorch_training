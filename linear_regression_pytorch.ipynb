{
  "nbformat": 4,
  "nbformat_minor": 0,
  "metadata": {
    "colab": {
      "name": "linear_regression_pytorch",
      "provenance": [],
      "authorship_tag": "ABX9TyNi9bAFQQJfUf0Yebqr0a3I",
      "include_colab_link": true
    },
    "kernelspec": {
      "name": "python3",
      "display_name": "Python 3"
    },
    "language_info": {
      "name": "python"
    },
    "accelerator": "GPU"
  },
  "cells": [
    {
      "cell_type": "markdown",
      "metadata": {
        "id": "view-in-github",
        "colab_type": "text"
      },
      "source": [
        "<a href=\"https://colab.research.google.com/github/megamindavi/pytorch_training/blob/main/linear_regression_pytorch.ipynb\" target=\"_parent\"><img src=\"https://colab.research.google.com/assets/colab-badge.svg\" alt=\"Open In Colab\"/></a>"
      ]
    },
    {
      "cell_type": "code",
      "execution_count": 1,
      "metadata": {
        "id": "2O5rmy5lv_vS"
      },
      "outputs": [],
      "source": [
        "import numpy as np\n",
        "import torch"
      ]
    },
    {
      "cell_type": "code",
      "source": [
        "\n",
        "# Input (temp, rainfall, humidity)\n",
        "inputs = np.array([[73, 67, 43], \n",
        "                   [91, 88, 64], \n",
        "                   [87, 134, 58], \n",
        "                   [102, 43, 37], \n",
        "                   [69, 96, 70]], dtype='float32')"
      ],
      "metadata": {
        "id": "9uFNBAgVwOT0"
      },
      "execution_count": 2,
      "outputs": []
    },
    {
      "cell_type": "code",
      "source": [
        "# Targets (apples, oranges)\n",
        "targets = np.array([[56, 70], \n",
        "                    [81, 101], \n",
        "                    [119, 133], \n",
        "                    [22, 37], \n",
        "                    [103, 119]], dtype='float32')\n"
      ],
      "metadata": {
        "id": "NWBGDDoywOQY"
      },
      "execution_count": 3,
      "outputs": []
    },
    {
      "cell_type": "code",
      "source": [
        "# Convert inputs and targets to tensors\n",
        "inputs = torch.from_numpy(inputs)\n",
        "targets = torch.from_numpy(targets)\n",
        "print(inputs)\n",
        "print(targets)"
      ],
      "metadata": {
        "colab": {
          "base_uri": "https://localhost:8080/"
        },
        "id": "W5PwFyQ7wOMu",
        "outputId": "a1ade32d-587b-4e02-8ec8-0a9648508367"
      },
      "execution_count": 4,
      "outputs": [
        {
          "output_type": "stream",
          "name": "stdout",
          "text": [
            "tensor([[ 73.,  67.,  43.],\n",
            "        [ 91.,  88.,  64.],\n",
            "        [ 87., 134.,  58.],\n",
            "        [102.,  43.,  37.],\n",
            "        [ 69.,  96.,  70.]])\n",
            "tensor([[ 56.,  70.],\n",
            "        [ 81., 101.],\n",
            "        [119., 133.],\n",
            "        [ 22.,  37.],\n",
            "        [103., 119.]])\n"
          ]
        }
      ]
    },
    {
      "cell_type": "code",
      "source": [
        "# Weights and biases\n",
        "w = torch.randn(2, 3, requires_grad=True)\n",
        "b = torch.randn(2, requires_grad=True)\n",
        "print(w)\n",
        "print(b)"
      ],
      "metadata": {
        "colab": {
          "base_uri": "https://localhost:8080/"
        },
        "id": "D-7sV52GwOIc",
        "outputId": "adf35390-6181-4855-bf92-6f351b19127a"
      },
      "execution_count": 5,
      "outputs": [
        {
          "output_type": "stream",
          "name": "stdout",
          "text": [
            "tensor([[-0.4646, -0.5477, -0.1247],\n",
            "        [ 0.1722,  1.0970, -2.1076]], requires_grad=True)\n",
            "tensor([-0.0089,  1.9858], requires_grad=True)\n"
          ]
        }
      ]
    },
    {
      "cell_type": "code",
      "source": [
        "def model(x):\n",
        "    return x @ w.t() + b"
      ],
      "metadata": {
        "id": "oG7nnSI9wOE5"
      },
      "execution_count": 6,
      "outputs": []
    },
    {
      "cell_type": "code",
      "source": [
        "# Generate predictions\n",
        "preds = model(inputs)\n",
        "print(preds)"
      ],
      "metadata": {
        "colab": {
          "base_uri": "https://localhost:8080/"
        },
        "id": "qbmYJcEqwOBb",
        "outputId": "babe8252-9ae5-4594-f1ce-a44bdaead312"
      },
      "execution_count": 7,
      "outputs": [
        {
          "output_type": "stream",
          "name": "stdout",
          "text": [
            "tensor([[ -75.9836,   -2.5664],\n",
            "        [ -98.4672,  -20.6876],\n",
            "        [-121.0560,   41.7325],\n",
            "        [ -75.5628,  -11.2557],\n",
            "        [ -93.3764,  -28.3453]], grad_fn=<AddBackward0>)\n"
          ]
        }
      ]
    },
    {
      "cell_type": "code",
      "source": [
        "# Compare with targets\n",
        "print(targets)"
      ],
      "metadata": {
        "colab": {
          "base_uri": "https://localhost:8080/"
        },
        "id": "ckTHE8HOwN87",
        "outputId": "ec678d44-5dae-4522-974b-7fbc6fdae609"
      },
      "execution_count": 8,
      "outputs": [
        {
          "output_type": "stream",
          "name": "stdout",
          "text": [
            "tensor([[ 56.,  70.],\n",
            "        [ 81., 101.],\n",
            "        [119., 133.],\n",
            "        [ 22.,  37.],\n",
            "        [103., 119.]])\n"
          ]
        }
      ]
    },
    {
      "cell_type": "code",
      "source": [
        "# MSE loss\n",
        "def mse(t1, t2):\n",
        "    diff = t1 - t2\n",
        "    return torch.sum(diff * diff) / diff.numel()"
      ],
      "metadata": {
        "id": "-f0zzBWQwN5m"
      },
      "execution_count": 9,
      "outputs": []
    },
    {
      "cell_type": "code",
      "source": [
        "# Compute loss\n",
        "loss = mse(preds, targets)\n",
        "print(torch.sqrt(loss))"
      ],
      "metadata": {
        "colab": {
          "base_uri": "https://localhost:8080/"
        },
        "id": "HiujqcWywN1g",
        "outputId": "56ade0ba-8daf-4f3a-c58a-77d48d59a2ba"
      },
      "execution_count": 13,
      "outputs": [
        {
          "output_type": "stream",
          "name": "stdout",
          "text": [
            "tensor(144.1458, grad_fn=<SqrtBackward0>)\n"
          ]
        }
      ]
    },
    {
      "cell_type": "code",
      "source": [
        "# Compute gradients\n",
        "loss.backward()"
      ],
      "metadata": {
        "id": "nH5s6NdawNBU"
      },
      "execution_count": 14,
      "outputs": []
    },
    {
      "cell_type": "code",
      "source": [
        "# Gradients for weights\n",
        "print(w)\n",
        "print(w.grad)"
      ],
      "metadata": {
        "colab": {
          "base_uri": "https://localhost:8080/"
        },
        "id": "k8XhjPI7zkaZ",
        "outputId": "e6680c47-48f7-4c6e-d0cb-ba0d7a41d3e3"
      },
      "execution_count": 15,
      "outputs": [
        {
          "output_type": "stream",
          "name": "stdout",
          "text": [
            "tensor([[-0.4646, -0.5477, -0.1247],\n",
            "        [ 0.1722,  1.0970, -2.1076]], requires_grad=True)\n",
            "tensor([[-14070.5137, -15970.1709,  -9688.1230],\n",
            "        [ -7880.0210,  -8804.0898,  -5660.3022]])\n"
          ]
        }
      ]
    },
    {
      "cell_type": "code",
      "source": [
        "w\n",
        "w.grad"
      ],
      "metadata": {
        "colab": {
          "base_uri": "https://localhost:8080/"
        },
        "id": "CRzscMn1znGi",
        "outputId": "9d0574c8-585e-4c90-d4ce-d01013d7fef3"
      },
      "execution_count": 16,
      "outputs": [
        {
          "output_type": "execute_result",
          "data": {
            "text/plain": [
              "tensor([[-14070.5137, -15970.1709,  -9688.1230],\n",
              "        [ -7880.0210,  -8804.0898,  -5660.3022]])"
            ]
          },
          "metadata": {},
          "execution_count": 16
        }
      ]
    },
    {
      "cell_type": "code",
      "source": [
        "with torch.no_grad():\n",
        "    w -= w.grad * 1e-5\n",
        "    b -= b.grad * 1e-5"
      ],
      "metadata": {
        "id": "fW8W9fTu0L6L"
      },
      "execution_count": 17,
      "outputs": []
    },
    {
      "cell_type": "code",
      "source": [
        "# Let's verify that the loss is actually lower\n",
        "loss = mse(preds, targets)\n",
        "print(torch.sqrt(loss))"
      ],
      "metadata": {
        "colab": {
          "base_uri": "https://localhost:8080/"
        },
        "id": "5mtkjM4S0P_J",
        "outputId": "2da19f08-0a9a-4b00-9215-626d0dded9b8"
      },
      "execution_count": 19,
      "outputs": [
        {
          "output_type": "stream",
          "name": "stdout",
          "text": [
            "tensor(144.1458, grad_fn=<SqrtBackward0>)\n"
          ]
        }
      ]
    },
    {
      "cell_type": "code",
      "source": [
        "w.grad.zero_()\n",
        "b.grad.zero_()\n",
        "print(w.grad)\n",
        "print(b.grad)"
      ],
      "metadata": {
        "colab": {
          "base_uri": "https://localhost:8080/"
        },
        "id": "KA85qwe30sFF",
        "outputId": "32f530e1-d9e3-44a4-fbd7-217db9eb5eaa"
      },
      "execution_count": 20,
      "outputs": [
        {
          "output_type": "stream",
          "name": "stdout",
          "text": [
            "tensor([[0., 0., 0.],\n",
            "        [0., 0., 0.]])\n",
            "tensor([0., 0.])\n"
          ]
        }
      ]
    },
    {
      "cell_type": "code",
      "source": [
        "# Generate predictions\n",
        "preds = model(inputs)\n",
        "print(preds)"
      ],
      "metadata": {
        "colab": {
          "base_uri": "https://localhost:8080/"
        },
        "id": "w3I757By0tOc",
        "outputId": "6d493757-a098-4d0a-f124-c1197c192fd1"
      },
      "execution_count": 21,
      "outputs": [
        {
          "output_type": "stream",
          "name": "stdout",
          "text": [
            "tensor([[-50.8445,  11.5196],\n",
            "        [-65.4072,  -2.1456],\n",
            "        [-81.7938,  63.6695],\n",
            "        [-50.7574,   2.6629],\n",
            "        [-61.5530, -10.4930]], grad_fn=<AddBackward0>)\n"
          ]
        }
      ]
    },
    {
      "cell_type": "code",
      "source": [
        "# Calculate the loss\n",
        "loss = mse(preds, targets)\n",
        "print(torch.sqrt(loss))"
      ],
      "metadata": {
        "colab": {
          "base_uri": "https://localhost:8080/"
        },
        "id": "jKYhh6WR01is",
        "outputId": "ce8dac5c-4bae-49b3-c556-27c31c6148de"
      },
      "execution_count": 23,
      "outputs": [
        {
          "output_type": "stream",
          "name": "stdout",
          "text": [
            "tensor(119.3120, grad_fn=<SqrtBackward0>)\n"
          ]
        }
      ]
    },
    {
      "cell_type": "code",
      "source": [
        "# Compute gradients\n",
        "loss.backward()\n",
        "print(w.grad)\n",
        "print(b.grad)"
      ],
      "metadata": {
        "colab": {
          "base_uri": "https://localhost:8080/"
        },
        "id": "2a-WF65F01fb",
        "outputId": "63cbd16e-9cc7-4f1c-920e-ffd36304864b"
      },
      "execution_count": 24,
      "outputs": [
        {
          "output_type": "stream",
          "name": "stdout",
          "text": [
            "tensor([[-11473.4355, -13174.8887,  -7964.2305],\n",
            "        [ -6424.8936,  -7238.6211,  -4694.4248]])\n",
            "tensor([-138.2712,  -78.9573])\n"
          ]
        }
      ]
    },
    {
      "cell_type": "code",
      "source": [
        "# Adjust weights & reset gradients\n",
        "with torch.no_grad():\n",
        "    w -= w.grad * 1e-5\n",
        "    b -= b.grad * 1e-5\n",
        "    w.grad.zero_()\n",
        "    b.grad.zero_()"
      ],
      "metadata": {
        "id": "HJtsUpNc01cQ"
      },
      "execution_count": 25,
      "outputs": []
    },
    {
      "cell_type": "code",
      "source": [
        "print(w)\n",
        "print(b)"
      ],
      "metadata": {
        "colab": {
          "base_uri": "https://localhost:8080/"
        },
        "id": "EphNQXKK01Xh",
        "outputId": "a0c60949-61f6-4cb5-f451-1740020a24db"
      },
      "execution_count": 26,
      "outputs": [
        {
          "output_type": "stream",
          "name": "stdout",
          "text": [
            "tensor([[-0.2091, -0.2563,  0.0518],\n",
            "        [ 0.3153,  1.2575, -2.0040]], requires_grad=True)\n",
            "tensor([-0.0059,  1.9876], requires_grad=True)\n"
          ]
        }
      ]
    },
    {
      "cell_type": "code",
      "source": [
        "# Calculate loss\n",
        "preds = model(inputs)\n",
        "loss = mse(preds, targets)\n",
        "print(torch.sqrt(loss))"
      ],
      "metadata": {
        "colab": {
          "base_uri": "https://localhost:8080/"
        },
        "id": "tO6Z7Ih41iT9",
        "outputId": "edac5d8d-26ee-4893-ebb4-d33e6ac9d082"
      },
      "execution_count": 28,
      "outputs": [
        {
          "output_type": "stream",
          "name": "stdout",
          "text": [
            "tensor(99.1202, grad_fn=<SqrtBackward0>)\n"
          ]
        }
      ]
    },
    {
      "cell_type": "code",
      "source": [
        "# Train for 100 epochs\n",
        "for i in range(10000):\n",
        "    preds = model(inputs)\n",
        "    loss = mse(preds, targets)\n",
        "    loss.backward()\n",
        "    with torch.no_grad():\n",
        "        w -= w.grad * 1e-5\n",
        "        b -= b.grad * 1e-5\n",
        "        w.grad.zero_()\n",
        "        b.grad.zero_()"
      ],
      "metadata": {
        "id": "NBkAHZwl1mgI"
      },
      "execution_count": 42,
      "outputs": []
    },
    {
      "cell_type": "code",
      "source": [
        "# Calculate loss\n",
        "preds = model(inputs)\n",
        "loss = mse(preds, targets)\n",
        "print(torch.sqrt(loss))"
      ],
      "metadata": {
        "colab": {
          "base_uri": "https://localhost:8080/"
        },
        "id": "gMmZrQDB14ja",
        "outputId": "3e168302-6cd6-4600-b67e-6d28dbd693d2"
      },
      "execution_count": 43,
      "outputs": [
        {
          "output_type": "stream",
          "name": "stdout",
          "text": [
            "tensor(0.7529, grad_fn=<SqrtBackward0>)\n"
          ]
        }
      ]
    },
    {
      "cell_type": "code",
      "source": [
        "preds"
      ],
      "metadata": {
        "colab": {
          "base_uri": "https://localhost:8080/"
        },
        "id": "fy-yybp52CoB",
        "outputId": "38b8cca6-848b-45f5-e2ed-ff9a292fd309"
      },
      "execution_count": 44,
      "outputs": [
        {
          "output_type": "execute_result",
          "data": {
            "text/plain": [
              "tensor([[ 57.1642,  70.6435],\n",
              "        [ 82.2075, 100.4601],\n",
              "        [118.6933, 132.9048],\n",
              "        [ 21.0815,  36.9733],\n",
              "        [101.9203, 119.1908]], grad_fn=<AddBackward0>)"
            ]
          },
          "metadata": {},
          "execution_count": 44
        }
      ]
    },
    {
      "cell_type": "code",
      "source": [
        "targets"
      ],
      "metadata": {
        "colab": {
          "base_uri": "https://localhost:8080/"
        },
        "id": "zC6sGnyG2CdL",
        "outputId": "4398e55f-c595-4944-8c3e-8ed9123a5688"
      },
      "execution_count": 45,
      "outputs": [
        {
          "output_type": "execute_result",
          "data": {
            "text/plain": [
              "tensor([[ 56.,  70.],\n",
              "        [ 81., 101.],\n",
              "        [119., 133.],\n",
              "        [ 22.,  37.],\n",
              "        [103., 119.]])"
            ]
          },
          "metadata": {},
          "execution_count": 45
        }
      ]
    },
    {
      "cell_type": "code",
      "source": [
        "import torch.nn as nn"
      ],
      "metadata": {
        "id": "2QkG2BFY3Zk3"
      },
      "execution_count": 46,
      "outputs": []
    },
    {
      "cell_type": "code",
      "source": [
        "# Input (temp, rainfall, humidity)\n",
        "inputs = np.array([[73, 67, 43], \n",
        "                   [91, 88, 64], \n",
        "                   [87, 134, 58], \n",
        "                   [102, 43, 37], \n",
        "                   [69, 96, 70], \n",
        "                   [74, 66, 43], \n",
        "                   [91, 87, 65], \n",
        "                   [88, 134, 59], \n",
        "                   [101, 44, 37], \n",
        "                   [68, 96, 71], \n",
        "                   [73, 66, 44], \n",
        "                   [92, 87, 64], \n",
        "                   [87, 135, 57], \n",
        "                   [103, 43, 36], \n",
        "                   [68, 97, 70]], \n",
        "                  dtype='float32')\n",
        "\n",
        "# Targets (apples, oranges)\n",
        "targets = np.array([[56, 70], \n",
        "                    [81, 101], \n",
        "                    [119, 133], \n",
        "                    [22, 37], \n",
        "                    [103, 119],\n",
        "                    [57, 69], \n",
        "                    [80, 102], \n",
        "                    [118, 132], \n",
        "                    [21, 38], \n",
        "                    [104, 118], \n",
        "                    [57, 69], \n",
        "                    [82, 100], \n",
        "                    [118, 134], \n",
        "                    [20, 38], \n",
        "                    [102, 120]], \n",
        "                   dtype='float32')\n",
        "\n",
        "inputs = torch.from_numpy(inputs)\n",
        "targets = torch.from_numpy(targets)"
      ],
      "metadata": {
        "id": "OvXx1T_l3h-T"
      },
      "execution_count": 47,
      "outputs": []
    },
    {
      "cell_type": "code",
      "source": [
        "inputs\n"
      ],
      "metadata": {
        "colab": {
          "base_uri": "https://localhost:8080/"
        },
        "id": "ygGDPG5E3h60",
        "outputId": "87c452dd-93a0-4d2d-c1b5-43c604b99ff9"
      },
      "execution_count": 48,
      "outputs": [
        {
          "output_type": "execute_result",
          "data": {
            "text/plain": [
              "tensor([[ 73.,  67.,  43.],\n",
              "        [ 91.,  88.,  64.],\n",
              "        [ 87., 134.,  58.],\n",
              "        [102.,  43.,  37.],\n",
              "        [ 69.,  96.,  70.],\n",
              "        [ 74.,  66.,  43.],\n",
              "        [ 91.,  87.,  65.],\n",
              "        [ 88., 134.,  59.],\n",
              "        [101.,  44.,  37.],\n",
              "        [ 68.,  96.,  71.],\n",
              "        [ 73.,  66.,  44.],\n",
              "        [ 92.,  87.,  64.],\n",
              "        [ 87., 135.,  57.],\n",
              "        [103.,  43.,  36.],\n",
              "        [ 68.,  97.,  70.]])"
            ]
          },
          "metadata": {},
          "execution_count": 48
        }
      ]
    },
    {
      "cell_type": "code",
      "source": [
        "targets"
      ],
      "metadata": {
        "colab": {
          "base_uri": "https://localhost:8080/"
        },
        "id": "PGVW2b0P3h3S",
        "outputId": "00b741f8-543d-41b6-fe46-0f6b3ff78d31"
      },
      "execution_count": 49,
      "outputs": [
        {
          "output_type": "execute_result",
          "data": {
            "text/plain": [
              "tensor([[ 56.,  70.],\n",
              "        [ 81., 101.],\n",
              "        [119., 133.],\n",
              "        [ 22.,  37.],\n",
              "        [103., 119.],\n",
              "        [ 57.,  69.],\n",
              "        [ 80., 102.],\n",
              "        [118., 132.],\n",
              "        [ 21.,  38.],\n",
              "        [104., 118.],\n",
              "        [ 57.,  69.],\n",
              "        [ 82., 100.],\n",
              "        [118., 134.],\n",
              "        [ 20.,  38.],\n",
              "        [102., 120.]])"
            ]
          },
          "metadata": {},
          "execution_count": 49
        }
      ]
    },
    {
      "cell_type": "code",
      "source": [
        "from torch.utils.data import TensorDataset"
      ],
      "metadata": {
        "id": "QRK4k3CJ3hzw"
      },
      "execution_count": 50,
      "outputs": []
    },
    {
      "cell_type": "code",
      "source": [
        "# Define dataset\n",
        "train_ds = TensorDataset(inputs, targets)\n",
        "train_ds[0:3]"
      ],
      "metadata": {
        "colab": {
          "base_uri": "https://localhost:8080/"
        },
        "id": "rFBrM6q-3hwW",
        "outputId": "58579800-50bd-413c-b265-f4992e7a868d"
      },
      "execution_count": 51,
      "outputs": [
        {
          "output_type": "execute_result",
          "data": {
            "text/plain": [
              "(tensor([[ 73.,  67.,  43.],\n",
              "         [ 91.,  88.,  64.],\n",
              "         [ 87., 134.,  58.]]), tensor([[ 56.,  70.],\n",
              "         [ 81., 101.],\n",
              "         [119., 133.]]))"
            ]
          },
          "metadata": {},
          "execution_count": 51
        }
      ]
    },
    {
      "cell_type": "code",
      "source": [
        "from torch.utils.data import DataLoader"
      ],
      "metadata": {
        "id": "6yHWcPks3htf"
      },
      "execution_count": 52,
      "outputs": []
    },
    {
      "cell_type": "code",
      "source": [
        "# Define data loader\n",
        "batch_size = 5\n",
        "train_dl = DataLoader(train_ds, batch_size, shuffle=True)"
      ],
      "metadata": {
        "id": "7w2s-b663hnw"
      },
      "execution_count": 53,
      "outputs": []
    },
    {
      "cell_type": "code",
      "source": [
        "for xb, yb in train_dl:\n",
        "    print(xb)\n",
        "    print(yb)\n",
        "    #break"
      ],
      "metadata": {
        "colab": {
          "base_uri": "https://localhost:8080/"
        },
        "id": "JoAlVHaa4e1i",
        "outputId": "fdca361b-967c-4b50-9600-76eb30fad009"
      },
      "execution_count": 55,
      "outputs": [
        {
          "output_type": "stream",
          "name": "stdout",
          "text": [
            "tensor([[103.,  43.,  36.],\n",
            "        [102.,  43.,  37.],\n",
            "        [101.,  44.,  37.],\n",
            "        [ 74.,  66.,  43.],\n",
            "        [ 92.,  87.,  64.]])\n",
            "tensor([[ 20.,  38.],\n",
            "        [ 22.,  37.],\n",
            "        [ 21.,  38.],\n",
            "        [ 57.,  69.],\n",
            "        [ 82., 100.]])\n",
            "tensor([[ 91.,  87.,  65.],\n",
            "        [ 73.,  66.,  44.],\n",
            "        [ 69.,  96.,  70.],\n",
            "        [ 91.,  88.,  64.],\n",
            "        [ 87., 134.,  58.]])\n",
            "tensor([[ 80., 102.],\n",
            "        [ 57.,  69.],\n",
            "        [103., 119.],\n",
            "        [ 81., 101.],\n",
            "        [119., 133.]])\n",
            "tensor([[ 68.,  97.,  70.],\n",
            "        [ 68.,  96.,  71.],\n",
            "        [ 88., 134.,  59.],\n",
            "        [ 87., 135.,  57.],\n",
            "        [ 73.,  67.,  43.]])\n",
            "tensor([[102., 120.],\n",
            "        [104., 118.],\n",
            "        [118., 132.],\n",
            "        [118., 134.],\n",
            "        [ 56.,  70.]])\n"
          ]
        }
      ]
    },
    {
      "cell_type": "code",
      "source": [
        "# Define model\n",
        "model = nn.Linear(3, 2)\n",
        "print(model.weight)\n",
        "print(model.bias)"
      ],
      "metadata": {
        "colab": {
          "base_uri": "https://localhost:8080/"
        },
        "id": "ih4VsJYF4iS8",
        "outputId": "d3264bae-731a-4060-d67f-e600ee84c71a"
      },
      "execution_count": 56,
      "outputs": [
        {
          "output_type": "stream",
          "name": "stdout",
          "text": [
            "Parameter containing:\n",
            "tensor([[-0.3147,  0.5702, -0.2407],\n",
            "        [ 0.5180,  0.1419, -0.1253]], requires_grad=True)\n",
            "Parameter containing:\n",
            "tensor([0.4928, 0.3637], requires_grad=True)\n"
          ]
        }
      ]
    },
    {
      "cell_type": "code",
      "source": [
        "# Parameters\n",
        "list(model.parameters())"
      ],
      "metadata": {
        "colab": {
          "base_uri": "https://localhost:8080/"
        },
        "id": "kAjmpgmI42N5",
        "outputId": "96abb424-c928-4c99-fa3a-98ef09b1d0bb"
      },
      "execution_count": 58,
      "outputs": [
        {
          "output_type": "execute_result",
          "data": {
            "text/plain": [
              "[Parameter containing:\n",
              " tensor([[-0.3147,  0.5702, -0.2407],\n",
              "         [ 0.5180,  0.1419, -0.1253]], requires_grad=True),\n",
              " Parameter containing:\n",
              " tensor([0.4928, 0.3637], requires_grad=True)]"
            ]
          },
          "metadata": {},
          "execution_count": 58
        }
      ]
    },
    {
      "cell_type": "code",
      "source": [
        "# Generate predictions\n",
        "preds = model(inputs)\n",
        "preds"
      ],
      "metadata": {
        "colab": {
          "base_uri": "https://localhost:8080/"
        },
        "id": "g1vaV1x55EgI",
        "outputId": "9512cb76-5771-4bfb-bfa2-9f4c714c2b4b"
      },
      "execution_count": 59,
      "outputs": [
        {
          "output_type": "execute_result",
          "data": {
            "text/plain": [
              "tensor([[  5.3709,  42.2996],\n",
              "        [  6.6250,  51.9725],\n",
              "        [ 35.5572,  57.1803],\n",
              "        [-15.9959,  54.6691],\n",
              "        [ 16.6658,  40.9587],\n",
              "        [  4.4860,  42.6758],\n",
              "        [  5.8141,  51.7052],\n",
              "        [ 35.0017,  57.5730],\n",
              "        [-15.1110,  54.2930],\n",
              "        [ 16.7398,  40.3153],\n",
              "        [  4.5600,  42.0324],\n",
              "        [  5.7401,  52.3486],\n",
              "        [ 36.3681,  57.4476],\n",
              "        [-16.0699,  55.3125],\n",
              "        [ 17.5507,  40.5826]], grad_fn=<AddmmBackward0>)"
            ]
          },
          "metadata": {},
          "execution_count": 59
        }
      ]
    },
    {
      "cell_type": "code",
      "source": [
        "# Import nn.functional\n",
        "import torch.nn.functional as F"
      ],
      "metadata": {
        "id": "NvTaWQgq5Kdz"
      },
      "execution_count": 60,
      "outputs": []
    },
    {
      "cell_type": "code",
      "source": [
        "# Define loss function\n",
        "loss_fn = F.mse_loss"
      ],
      "metadata": {
        "id": "Odi3x4of5Oi0"
      },
      "execution_count": 61,
      "outputs": []
    },
    {
      "cell_type": "code",
      "source": [
        "loss = loss_fn(model(inputs), targets)\n",
        "print(torch.sqrt(loss))"
      ],
      "metadata": {
        "colab": {
          "base_uri": "https://localhost:8080/"
        },
        "id": "K2oV0vjc5QbH",
        "outputId": "16ef454f-c2a8-4614-cfad-6fcaad7c3d99"
      },
      "execution_count": 63,
      "outputs": [
        {
          "output_type": "stream",
          "name": "stdout",
          "text": [
            "tensor(62.5926, grad_fn=<SqrtBackward0>)\n"
          ]
        }
      ]
    },
    {
      "cell_type": "code",
      "source": [
        "# Define optimizer\n",
        "opt = torch.optim.SGD(model.parameters(), lr=1e-5)"
      ],
      "metadata": {
        "id": "4ggpKxVr5TOe"
      },
      "execution_count": 64,
      "outputs": []
    },
    {
      "cell_type": "code",
      "source": [
        "# Utility function to train the model\n",
        "def fit(num_epochs, model, loss_fn, opt, train_dl):\n",
        "    \n",
        "    # Repeat for given number of epochs\n",
        "    for epoch in range(num_epochs):\n",
        "        \n",
        "        # Train with batches of data\n",
        "        for xb,yb in train_dl:\n",
        "            \n",
        "            # 1. Generate predictions\n",
        "            pred = model(xb)\n",
        "            \n",
        "            # 2. Calculate loss\n",
        "            loss = loss_fn(pred, yb)\n",
        "            \n",
        "            # 3. Compute gradients\n",
        "            loss.backward()\n",
        "            \n",
        "            # 4. Update parameters using gradients\n",
        "            opt.step()\n",
        "            \n",
        "            # 5. Reset the gradients to zero\n",
        "            opt.zero_grad()\n",
        "        \n",
        "        # Print the progress\n",
        "        if (epoch+1) % 10 == 0:\n",
        "            print('Epoch [{}/{}], Loss: {:.4f}'.format(epoch+1, num_epochs, loss.item()))"
      ],
      "metadata": {
        "id": "6fUjElOG5iw5"
      },
      "execution_count": 65,
      "outputs": []
    },
    {
      "cell_type": "code",
      "source": [
        "fit(1000, model, loss_fn, opt, train_dl)\n"
      ],
      "metadata": {
        "colab": {
          "base_uri": "https://localhost:8080/"
        },
        "id": "N5ha34Wo51k7",
        "outputId": "d962e38a-bb3d-417c-d826-665ef23ab296"
      },
      "execution_count": 69,
      "outputs": [
        {
          "output_type": "stream",
          "name": "stdout",
          "text": [
            "Epoch [10/1000], Loss: 53.5947\n",
            "Epoch [20/1000], Loss: 37.2827\n",
            "Epoch [30/1000], Loss: 40.1153\n",
            "Epoch [40/1000], Loss: 26.3341\n",
            "Epoch [50/1000], Loss: 27.5299\n",
            "Epoch [60/1000], Loss: 25.5078\n",
            "Epoch [70/1000], Loss: 17.5587\n",
            "Epoch [80/1000], Loss: 17.9762\n",
            "Epoch [90/1000], Loss: 19.9538\n",
            "Epoch [100/1000], Loss: 29.5246\n",
            "Epoch [110/1000], Loss: 22.2506\n",
            "Epoch [120/1000], Loss: 29.9483\n",
            "Epoch [130/1000], Loss: 23.6982\n",
            "Epoch [140/1000], Loss: 21.1474\n",
            "Epoch [150/1000], Loss: 11.0166\n",
            "Epoch [160/1000], Loss: 7.7461\n",
            "Epoch [170/1000], Loss: 7.2218\n",
            "Epoch [180/1000], Loss: 9.9226\n",
            "Epoch [190/1000], Loss: 13.3178\n",
            "Epoch [200/1000], Loss: 10.8921\n",
            "Epoch [210/1000], Loss: 14.0823\n",
            "Epoch [220/1000], Loss: 6.7807\n",
            "Epoch [230/1000], Loss: 8.2183\n",
            "Epoch [240/1000], Loss: 6.4235\n",
            "Epoch [250/1000], Loss: 9.2377\n",
            "Epoch [260/1000], Loss: 5.7739\n",
            "Epoch [270/1000], Loss: 6.4506\n",
            "Epoch [280/1000], Loss: 9.0097\n",
            "Epoch [290/1000], Loss: 6.2815\n",
            "Epoch [300/1000], Loss: 7.8898\n",
            "Epoch [310/1000], Loss: 1.9269\n",
            "Epoch [320/1000], Loss: 8.5213\n",
            "Epoch [330/1000], Loss: 7.0199\n",
            "Epoch [340/1000], Loss: 6.5580\n",
            "Epoch [350/1000], Loss: 3.4690\n",
            "Epoch [360/1000], Loss: 5.7953\n",
            "Epoch [370/1000], Loss: 6.5882\n",
            "Epoch [380/1000], Loss: 1.8052\n",
            "Epoch [390/1000], Loss: 6.0997\n",
            "Epoch [400/1000], Loss: 7.2578\n",
            "Epoch [410/1000], Loss: 4.4556\n",
            "Epoch [420/1000], Loss: 3.5250\n",
            "Epoch [430/1000], Loss: 4.6776\n",
            "Epoch [440/1000], Loss: 3.9517\n",
            "Epoch [450/1000], Loss: 4.3644\n",
            "Epoch [460/1000], Loss: 2.1399\n",
            "Epoch [470/1000], Loss: 3.3071\n",
            "Epoch [480/1000], Loss: 3.3366\n",
            "Epoch [490/1000], Loss: 4.2658\n",
            "Epoch [500/1000], Loss: 3.5345\n",
            "Epoch [510/1000], Loss: 3.0248\n",
            "Epoch [520/1000], Loss: 2.6887\n",
            "Epoch [530/1000], Loss: 4.0197\n",
            "Epoch [540/1000], Loss: 2.6401\n",
            "Epoch [550/1000], Loss: 2.4388\n",
            "Epoch [560/1000], Loss: 2.1251\n",
            "Epoch [570/1000], Loss: 3.9660\n",
            "Epoch [580/1000], Loss: 1.4791\n",
            "Epoch [590/1000], Loss: 1.6501\n",
            "Epoch [600/1000], Loss: 2.6969\n",
            "Epoch [610/1000], Loss: 2.4523\n",
            "Epoch [620/1000], Loss: 2.2093\n",
            "Epoch [630/1000], Loss: 2.8738\n",
            "Epoch [640/1000], Loss: 1.7957\n",
            "Epoch [650/1000], Loss: 1.5109\n",
            "Epoch [660/1000], Loss: 2.5700\n",
            "Epoch [670/1000], Loss: 1.1813\n",
            "Epoch [680/1000], Loss: 1.5547\n",
            "Epoch [690/1000], Loss: 1.5344\n",
            "Epoch [700/1000], Loss: 2.3474\n",
            "Epoch [710/1000], Loss: 1.8086\n",
            "Epoch [720/1000], Loss: 1.9819\n",
            "Epoch [730/1000], Loss: 0.8010\n",
            "Epoch [740/1000], Loss: 1.7719\n",
            "Epoch [750/1000], Loss: 1.9223\n",
            "Epoch [760/1000], Loss: 1.4351\n",
            "Epoch [770/1000], Loss: 1.7709\n",
            "Epoch [780/1000], Loss: 1.9702\n",
            "Epoch [790/1000], Loss: 1.6209\n",
            "Epoch [800/1000], Loss: 1.1442\n",
            "Epoch [810/1000], Loss: 1.9095\n",
            "Epoch [820/1000], Loss: 1.3194\n",
            "Epoch [830/1000], Loss: 1.1900\n",
            "Epoch [840/1000], Loss: 0.6673\n",
            "Epoch [850/1000], Loss: 2.0118\n",
            "Epoch [860/1000], Loss: 1.4002\n",
            "Epoch [870/1000], Loss: 1.6239\n",
            "Epoch [880/1000], Loss: 1.5436\n",
            "Epoch [890/1000], Loss: 1.1054\n",
            "Epoch [900/1000], Loss: 1.2747\n",
            "Epoch [910/1000], Loss: 0.9922\n",
            "Epoch [920/1000], Loss: 1.0994\n",
            "Epoch [930/1000], Loss: 0.7458\n",
            "Epoch [940/1000], Loss: 1.3991\n",
            "Epoch [950/1000], Loss: 1.4004\n",
            "Epoch [960/1000], Loss: 1.1561\n",
            "Epoch [970/1000], Loss: 1.1119\n",
            "Epoch [980/1000], Loss: 1.1730\n",
            "Epoch [990/1000], Loss: 0.9749\n",
            "Epoch [1000/1000], Loss: 1.1460\n"
          ]
        }
      ]
    },
    {
      "cell_type": "code",
      "source": [
        "# Generate predictions\n",
        "preds = model(inputs)\n",
        "preds"
      ],
      "metadata": {
        "colab": {
          "base_uri": "https://localhost:8080/"
        },
        "id": "4B5wMom451dE",
        "outputId": "878f8227-7d9d-4b23-e685-bfcb47613d66"
      },
      "execution_count": 70,
      "outputs": [
        {
          "output_type": "execute_result",
          "data": {
            "text/plain": [
              "tensor([[ 57.0866,  70.4766],\n",
              "        [ 81.8319, 100.2819],\n",
              "        [118.6255, 133.2257],\n",
              "        [ 20.9401,  37.8625],\n",
              "        [101.5247, 118.0645],\n",
              "        [ 55.8320,  69.3909],\n",
              "        [ 81.6503, 100.3360],\n",
              "        [118.8941, 133.8012],\n",
              "        [ 22.1948,  38.9482],\n",
              "        [102.5977, 119.2044],\n",
              "        [ 56.9049,  70.5308],\n",
              "        [ 80.5773,  99.1962],\n",
              "        [118.8072, 133.1715],\n",
              "        [ 19.8672,  36.7226],\n",
              "        [102.7793, 119.1502]], grad_fn=<AddmmBackward0>)"
            ]
          },
          "metadata": {},
          "execution_count": 70
        }
      ]
    },
    {
      "cell_type": "code",
      "source": [
        "# Compare with targets\n",
        "targets"
      ],
      "metadata": {
        "colab": {
          "base_uri": "https://localhost:8080/"
        },
        "id": "EJgBw8gG6gt5",
        "outputId": "c33357f6-eb87-4a81-d373-617513dd9c72"
      },
      "execution_count": 71,
      "outputs": [
        {
          "output_type": "execute_result",
          "data": {
            "text/plain": [
              "tensor([[ 56.,  70.],\n",
              "        [ 81., 101.],\n",
              "        [119., 133.],\n",
              "        [ 22.,  37.],\n",
              "        [103., 119.],\n",
              "        [ 57.,  69.],\n",
              "        [ 80., 102.],\n",
              "        [118., 132.],\n",
              "        [ 21.,  38.],\n",
              "        [104., 118.],\n",
              "        [ 57.,  69.],\n",
              "        [ 82., 100.],\n",
              "        [118., 134.],\n",
              "        [ 20.,  38.],\n",
              "        [102., 120.]])"
            ]
          },
          "metadata": {},
          "execution_count": 71
        }
      ]
    }
  ]
}